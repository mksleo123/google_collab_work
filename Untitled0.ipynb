{
  "nbformat": 4,
  "nbformat_minor": 0,
  "metadata": {
    "colab": {
      "name": "Untitled0.ipynb",
      "provenance": [],
      "collapsed_sections": [],
      "authorship_tag": "ABX9TyPK9E4Il8j3EhTjbaLGzjXI",
      "include_colab_link": true
    },
    "kernelspec": {
      "name": "python3",
      "display_name": "Python 3"
    },
    "language_info": {
      "name": "python"
    }
  },
  "cells": [
    {
      "cell_type": "markdown",
      "metadata": {
        "id": "view-in-github",
        "colab_type": "text"
      },
      "source": [
        "<a href=\"https://colab.research.google.com/github/mksleo123/google_collab_work/blob/main/Untitled0.ipynb\" target=\"_parent\"><img src=\"https://colab.research.google.com/assets/colab-badge.svg\" alt=\"Open In Colab\"/></a>"
      ]
    },
    {
      "cell_type": "code",
      "metadata": {
        "colab": {
          "base_uri": "https://localhost:8080/"
        },
        "id": "WamQG30riGaU",
        "outputId": "357e8d22-879e-4f5f-c38f-7ed7259fe0be"
      },
      "source": [
        "import math\n",
        "print('pi valaue=',math.pi)\n",
        "radius=4\n",
        "print('Area of circle 4 =',math.pi*(radius**2))"
      ],
      "execution_count": 2,
      "outputs": [
        {
          "output_type": "stream",
          "name": "stdout",
          "text": [
            "pi valaue= 3.141592653589793\n",
            "Area of circle 4 = 50.26548245743669\n"
          ]
        }
      ]
    },
    {
      "cell_type": "code",
      "metadata": {
        "colab": {
          "base_uri": "https://localhost:8080/"
        },
        "id": "A_QWkZK2jM5W",
        "outputId": "c2ebb4d7-15c9-4d21-aca7-04fa382b0a1c"
      },
      "source": [
        "import math\n",
        "number=-2.34\n",
        "print('the given number is :',number)\n",
        "print('the given number is :',math.floor(number))\n",
        "print('the given number is :',math.ceil(number))\n",
        "print('the given number is :',math.fabs(number))"
      ],
      "execution_count": 4,
      "outputs": [
        {
          "output_type": "stream",
          "name": "stdout",
          "text": [
            "the given number is : -2.34\n",
            "the given number is : -3\n",
            "the given number is : -2\n",
            "the given number is : 2.34\n"
          ]
        }
      ]
    },
    {
      "cell_type": "code",
      "metadata": {
        "colab": {
          "base_uri": "https://localhost:8080/"
        },
        "id": "GY7BgigLkNRh",
        "outputId": "4fe682aa-0440-42f4-d26f-07910723510a"
      },
      "source": [
        "import statistics\n",
        "ex_list=[5,2,5,6,1,2,6,7,6,3,5,5]\n",
        "x=statistics.mean(ex_list)\n",
        "print(x)\n",
        "y=statistics.median(ex_list)\n",
        "print(y)\n",
        "z=statistics.mode(ex_list)\n",
        "print(z)\n",
        "a=statistics.stdev(ex_list)\n",
        "print(a)\n",
        "b=statistics.variance(ex_list)\n",
        "print(b)\n"
      ],
      "execution_count": 7,
      "outputs": [
        {
          "output_type": "stream",
          "name": "stdout",
          "text": [
            "4.416666666666667\n",
            "5.0\n",
            "5\n",
            "1.9286515936521478\n",
            "3.7196969696969697\n"
          ]
        }
      ]
    },
    {
      "cell_type": "code",
      "metadata": {
        "colab": {
          "base_uri": "https://localhost:8080/"
        },
        "id": "wpdNECITlcWn",
        "outputId": "3b5556da-d657-44a2-8ff0-c679d893785e"
      },
      "source": [
        "import zlib\n",
        "s='whixh has witches wrist Hi prashant'\n",
        "#s.encode('utf-8')\n",
        "print(len(s))\n",
        "t=zlib.compress(s.encode('utf-8'))\n",
        "print(t,len(t))\n",
        "u=zlib.decompress(t)\n",
        "print(u)"
      ],
      "execution_count": 13,
      "outputs": [
        {
          "output_type": "stream",
          "name": "stdout",
          "text": [
            "35\n",
            "b'x\\x9c+\\xcf\\xc8\\xac\\xc8P\\xc8H,V(\\xcf,I\\xceH\\x05\\xd2E\\x99\\xc5%\\n\\x1e\\x99\\n\\x05E\\x89\\xc5\\x19\\x89y%\\x00\\xee\\xdc\\rG' 41\n",
            "b'whixh has witches wrist Hi prashant'\n"
          ]
        }
      ]
    },
    {
      "cell_type": "code",
      "metadata": {
        "colab": {
          "base_uri": "https://localhost:8080/"
        },
        "id": "93w-wawmordd",
        "outputId": "44ef7bbc-b231-4f9f-e1ff-9764b9d3c0a0"
      },
      "source": [
        "from datetime import date\n",
        "now = date.today()\n",
        "print(now)\n",
        "bd = date(1999, 3 ,28)\n",
        "#nod = now - bd\n",
        "y = now.year - bd.year\n",
        "m = now.month - bd.month\n",
        "d = now.day - bd.day\n",
        "if d < 0:\n",
        "  m += 1\n",
        "  d = 30 + d\n",
        "print(y, m, d)"
      ],
      "execution_count": 31,
      "outputs": [
        {
          "output_type": "stream",
          "name": "stdout",
          "text": [
            "2021-10-05\n",
            "22 8 7\n"
          ]
        }
      ]
    },
    {
      "cell_type": "code",
      "metadata": {
        "colab": {
          "base_uri": "https://localhost:8080/"
        },
        "id": "LjA0futLuDNE",
        "outputId": "cc4674fc-85e5-435c-cd61-a86fa90dbb08"
      },
      "source": [
        "import numpy as np\n",
        "a=np.array([1,2,3])\n",
        "print(a.ndim)\n",
        "print(type(a))\n",
        "print(a.shape)\n",
        "print(a[0],a[1],a[2])\n",
        "a[0]=5\n",
        "print(a)\n",
        "b=np.array([[1,2,3],[4,5,6]])\n",
        "print(b.shape)\n",
        "print(b[0,0],b[0,1],b[1,0])"
      ],
      "execution_count": 33,
      "outputs": [
        {
          "output_type": "stream",
          "name": "stdout",
          "text": [
            "1\n",
            "<class 'numpy.ndarray'>\n",
            "(3,)\n",
            "1 2 3\n",
            "[5 2 3]\n",
            "(2, 3)\n",
            "1 2 4\n"
          ]
        }
      ]
    },
    {
      "cell_type": "code",
      "metadata": {
        "colab": {
          "base_uri": "https://localhost:8080/"
        },
        "id": "GLvVCwfsvNig",
        "outputId": "a19fdb71-7ec8-48d6-9e31-23fc4bc56abf"
      },
      "source": [
        "import numpy as np \n",
        "a = np.zeros((2,2))\n",
        "b=  np.ones((1,2))\n",
        "c = np.full((2,2), 7)\n",
        "d = np.eye(2)\n",
        "e=np.random.random((2,2))\n",
        "print(a)\n",
        "print(b)\n",
        "print(c)\n",
        "print(d)\n",
        "print(e)"
      ],
      "execution_count": 35,
      "outputs": [
        {
          "output_type": "stream",
          "name": "stdout",
          "text": [
            "[[0. 0.]\n",
            " [0. 0.]]\n",
            "[[1. 1.]]\n",
            "[[7 7]\n",
            " [7 7]]\n",
            "[[1. 0.]\n",
            " [0. 1.]]\n",
            "[[0.62839409 0.99278544]\n",
            " [0.80516337 0.60491509]]\n"
          ]
        }
      ]
    },
    {
      "cell_type": "code",
      "metadata": {
        "colab": {
          "base_uri": "https://localhost:8080/"
        },
        "id": "-M2lF0cvwboB",
        "outputId": "c77fd5c5-a374-4dd8-e2f8-867cd3aaad4a"
      },
      "source": [
        "import numpy as np\n",
        "a = np.array([[1,2,3,4],[5,6,7,8],[9,10,11,12]])\n",
        "b=a[:2,1:3]\n",
        "print(a)\n",
        "print(b)\n",
        "b[0,0]=77\n",
        "print(a)"
      ],
      "execution_count": 37,
      "outputs": [
        {
          "output_type": "stream",
          "name": "stdout",
          "text": [
            "[[ 1  2  3  4]\n",
            " [ 5  6  7  8]\n",
            " [ 9 10 11 12]]\n",
            "[[2 3]\n",
            " [6 7]]\n",
            "[[ 1 77  3  4]\n",
            " [ 5  6  7  8]\n",
            " [ 9 10 11 12]]\n"
          ]
        }
      ]
    },
    {
      "cell_type": "code",
      "metadata": {
        "id": "HLdyoRUvz64M"
      },
      "source": [
        ""
      ],
      "execution_count": null,
      "outputs": []
    }
  ]
}